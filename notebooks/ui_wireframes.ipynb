{
 "cells": [
  {
   "cell_type": "markdown",
   "metadata": {},
   "source": [
    "# Operator UI Wireframes\n",
    "This notebook contains conceptual UI designs for the real-time defect detection dashboard and ICS correlation views."
   ]
  },
  {
   "cell_type": "markdown",
   "metadata": {},
   "source": [
    "## 1. Real-Time Defect Dashboard\n",
    "```\n",
    "+-------------------------------------------------------+\n",
    "|  [Camera Feed]          [Defect Bounding Boxes]       |\n",
    "|  * HPC YOLO overlay *   Confidence: 0.94              |\n",
    "|  [Flag as False Pos?]   [Request Manual Recheck]      |\n",
    "+-------------------------------------------------------+\n",
    "|  ICS Anomaly: None detected in last 15 min            |\n",
    "|  Operator Notes: [ text field ]                       |\n",
    "```\n",
    "\n",
    "## 2. ICS Security Correlation View\n",
    "```\n",
    "+-------------------------------------------------------+\n",
    "| ICS Threat Logs (Nozomi/Vectra)     | Defect Graph     |\n",
    "|  High severity anomaly at 10:12     | Defect spike at 10:15\n",
    "|  Suspicious IP traffic ...         | yoy yoy yoy yoy   |\n",
    "|                                     | yoy yoy yoy yoy   |\n",
    " +------------------------------------------------------+\n",
    "```\n",
    "## 3. QA Label Correction\n",
    "```\n",
    "+-------------------------------------------------------+\n",
    "|  [List of recent HPC detections]                      |\n",
    "|   - sample_03.jpg: crack? Confidence 0.89             |\n",
    "|   - sample_04.jpg: dent?  Confidence 0.92             |\n",
    "|  [Confirm]  [Reject]  [Edit bounding box?]            |\n",
    "+-------------------------------------------------------+\n",
    "```"
   ]
  }
 ],
 "metadata": {
  "kernelspec": {
   "display_name": "Python 3",
   "language": "python",
   "name": "python3"
  }
 },
 "nbformat": 4,
 "nbformat_minor": 4
}
