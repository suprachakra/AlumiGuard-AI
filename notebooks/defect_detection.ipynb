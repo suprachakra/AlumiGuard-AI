{
 "cells": [
  {
   "cell_type": "markdown",
   "metadata": {},
   "source": [
    "# AeroCheck AI: Defect Detection Notebook\n",
    "This notebook demonstrates EDA (Exploratory Data Analysis), model training, and basic evaluation."
   ]
  },
  {
   "cell_type": "code",
   "metadata": {},
   "source": [
    "!pip install ultralytics coverage pandas matplotlib seaborn --quiet",
    "from ultralytics import YOLO\n",
    "import pandas as pd\n",
    "import matplotlib.pyplot as plt\n",
    "import seaborn as sns\n",
    "\n",
    "# Load dataset\n",
    "df = pd.read_csv('data/labels/defect_labels.csv')\n",
    "df.head()"
   ],
   "execution_count": null,
   "outputs": []
  },
  {
   "cell_type": "code",
   "metadata": {},
   "source": [
    "# Quick EDA\n",
    "sns.countplot(x='defect_type', data=df)\n",
    "plt.title('Distribution of Defect Types')\n",
    "plt.show()"
   ],
   "execution_count": null,
   "outputs": []
  },
  {
   "cell_type": "code",
   "metadata": {},
   "source": [
    "# Load and train model\n",
    "model = YOLO('models/yolov8n.pt')\n",
    "model.train(data='data/labels/defect_labels.csv', epochs=2)\n",
    "results = model.val()\n",
    "print(results)"
   ],
   "execution_count": null,
   "outputs": []
  }
 ],
 "metadata": {
  "kernelspec": {
   "display_name": "Python 3",
   "language": "python",
   "name": "python3"
  }
 },
 "nbformat": 4,
 "nbformat_minor": 4
}
