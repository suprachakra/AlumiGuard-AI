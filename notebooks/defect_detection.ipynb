{
 "cells": [
  {
   "cell_type": "markdown",
   "metadata": {},
   "source": [
    "# Aluminum Defect Detection\n",
    "This notebook demonstrates EDA and model training."
   ]
  },
  {
   "cell_type": "code",
   "execution_count": null,
   "metadata": {},
   "outputs": [],
   "source": [
    "!pip install ultralytics\n",
    "from ultralytics import YOLO\n",
    "import pandas as pd\n",
    "import matplotlib.pyplot as plt\n",
    "import seaborn as sns\n",
    "\n",
    "# Load dataset\n",
    "df = pd.read_csv('data/labels/defect_labels.csv')\n",
    "\n",
    "# EDA\n",
    "sns.countplot(x='defect_type', data=df)\n",
    "plt.title('Distribution of Defect Types')\n",
    "plt.show()\n",
    "\n",
    "# Load model\n",
    "model = YOLO('models/yolov8n.pt')\n",
    "\n",
    "# Train model\n",
    "model.train(data='data/labels/defect_labels.csv', epochs=50)\n",
    "\n",
    "# Evaluate model\n",
    "results = model.val()\n",
    "print(results)"
   ]
  }
 ],
 "metadata": {
  "kernelspec": {
   "display_name": "Python 3",
   "language": "python",
   "name": "python3"
  }
 },
 "nbformat": 4,
 "nbformat_minor": 4
}

