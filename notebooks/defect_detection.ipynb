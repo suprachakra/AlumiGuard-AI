{
 "cells": [
  {
   "cell_type": "markdown",
   "metadata": {},
   "source": [
    "# Defect Detection Pipeline\n",
    "\n",
    "# AlumiGuard AI: Defect Detection Notebook\n",
    "This notebook demonstrates EDA (Exploratory Data Analysis), model training, and basic evaluation and the full defect detection pipeline including data loading, pre-processing, model inference, and visualization of detected defects.\n",
    "\n",
    "## Overview\n",
    "- Load raw images and labels\n",
    "- Preprocess images for the YOLO model\n",
    "- Run inference using our optimized model\n",
    "- Visualize bounding boxes and defect types\n",
    "- Log performance metrics"
   ]
  },
  {
   "cell_type": "code",
   "execution_count": 1,
   "metadata": {},
   "outputs": [],
   "source": [
    "import cv2\n",
    "import numpy as np\n",
    "import matplotlib.pyplot as plt\n",
    "from src.inference_api import run_inference\n",
    "\n",
    "# Sample image path\n",
    "image_path = 'data/raw/sample_image.jpg'\n",
    "\n",
    "# Load image\n",
    "image = cv2.imread(image_path)\n",
    "if image is None:\n",
    "    raise ValueError('Image not found at ' + image_path)\n",
    "\n",
    "# Run inference\n",
    "detections = run_inference(image)\n",
    "\n",
    "# Visualize results\n",
    "for det in detections:\n",
    "    x, y, w, h, label, conf = det\n",
    "    cv2.rectangle(image, (x,y), (x+w,y+h), (0,255,0), 2)\n",
    "    cv2.putText(image, f'{label} {conf:.2f}', (x,y-10), cv2.FONT_HERSHEY_SIMPLEX, 0.5, (0,255,0), 2)\n",
    "\n",
    "plt.imshow(cv2.cvtColor(image, cv2.COLOR_BGR2RGB))\n",
    "plt.title('Defect Detection Results')\n",
    "plt.show()"
   ]
  }
 ],
 "metadata": {
  "kernelspec": {
   "display_name": "Python 3",
   "language": "python",
   "name": "python3"
  },
  "language_info": {
   "name": "python",
   "version": "3.8"
  }
 },
 "nbformat": 4,
 "nbformat_minor": 4
}
